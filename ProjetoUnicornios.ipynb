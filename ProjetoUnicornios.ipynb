{
 "cells": [
  {
   "cell_type": "markdown",
   "id": "764f4076-746b-4121-b0ae-f6c5e5e98a82",
   "metadata": {},
   "source": [
    "# Imports "
   ]
  },
  {
   "cell_type": "code",
   "execution_count": 1,
   "id": "64b9af50-2d61-4cae-ac02-97cda98f6a12",
   "metadata": {},
   "outputs": [],
   "source": [
    "import numpy as np\n",
    "import pandas as pd\n",
    "import matplotlib.pyplot as plt\n",
    "import seaborn as sns\n",
    "\n",
    "import warnings\n",
    "warnings.filterwarnings('ignore')"
   ]
  },
  {
   "cell_type": "markdown",
   "id": "ac92dfdd-7387-4be2-8be2-606e2c2cc1e5",
   "metadata": {},
   "source": [
    "# Base de dados"
   ]
  },
  {
   "cell_type": "code",
   "execution_count": 2,
   "id": "e3fc5a41-936e-4420-93e0-44bdd850ab0b",
   "metadata": {},
   "outputs": [],
   "source": [
    "# Lendo o Dataset\n",
    "base = pd.read_csv('data/Startups+in+2021+end.csv')"
   ]
  },
  {
   "cell_type": "code",
   "execution_count": 3,
   "id": "4501d047-3570-4cef-aa43-b31f033b2773",
   "metadata": {},
   "outputs": [
    {
     "name": "stdout",
     "output_type": "stream",
     "text": [
      "Números de linhas: 936\n",
      "Número de colunas: 8\n"
     ]
    }
   ],
   "source": [
    "# Quantidade de observações e variáveis\n",
    "print(f'Números de linhas: {base.shape[0]}\\nNúmero de colunas: {base.shape[1]}')"
   ]
  },
  {
   "cell_type": "code",
   "execution_count": 4,
   "id": "cd85978c-38b1-45dc-b21b-3d886d739bac",
   "metadata": {},
   "outputs": [
    {
     "data": {
      "text/html": [
       "<div>\n",
       "<style scoped>\n",
       "    .dataframe tbody tr th:only-of-type {\n",
       "        vertical-align: middle;\n",
       "    }\n",
       "\n",
       "    .dataframe tbody tr th {\n",
       "        vertical-align: top;\n",
       "    }\n",
       "\n",
       "    .dataframe thead th {\n",
       "        text-align: right;\n",
       "    }\n",
       "</style>\n",
       "<table border=\"1\" class=\"dataframe\">\n",
       "  <thead>\n",
       "    <tr style=\"text-align: right;\">\n",
       "      <th></th>\n",
       "      <th>Unnamed: 0</th>\n",
       "      <th>Company</th>\n",
       "      <th>Valuation ($B)</th>\n",
       "      <th>Date Joined</th>\n",
       "      <th>Country</th>\n",
       "      <th>City</th>\n",
       "      <th>Industry</th>\n",
       "      <th>Select Investors</th>\n",
       "    </tr>\n",
       "  </thead>\n",
       "  <tbody>\n",
       "    <tr>\n",
       "      <th>0</th>\n",
       "      <td>0</td>\n",
       "      <td>Bytedance</td>\n",
       "      <td>$140</td>\n",
       "      <td>4/7/2017</td>\n",
       "      <td>China</td>\n",
       "      <td>Beijing</td>\n",
       "      <td>Artificial intelligence</td>\n",
       "      <td>Sequoia Capital China, SIG Asia Investments, S...</td>\n",
       "    </tr>\n",
       "    <tr>\n",
       "      <th>1</th>\n",
       "      <td>1</td>\n",
       "      <td>SpaceX</td>\n",
       "      <td>$100.3</td>\n",
       "      <td>12/1/2012</td>\n",
       "      <td>United States</td>\n",
       "      <td>Hawthorne</td>\n",
       "      <td>Other</td>\n",
       "      <td>Founders Fund, Draper Fisher Jurvetson, Rothen...</td>\n",
       "    </tr>\n",
       "    <tr>\n",
       "      <th>2</th>\n",
       "      <td>2</td>\n",
       "      <td>Stripe</td>\n",
       "      <td>$95</td>\n",
       "      <td>1/23/2014</td>\n",
       "      <td>United States</td>\n",
       "      <td>San Francisco</td>\n",
       "      <td>Fintech</td>\n",
       "      <td>Khosla Ventures, LowercaseCapital, capitalG</td>\n",
       "    </tr>\n",
       "    <tr>\n",
       "      <th>3</th>\n",
       "      <td>3</td>\n",
       "      <td>Klarna</td>\n",
       "      <td>$45.6</td>\n",
       "      <td>12/12/2011</td>\n",
       "      <td>Sweden</td>\n",
       "      <td>Stockholm</td>\n",
       "      <td>Fintech</td>\n",
       "      <td>Institutional Venture Partners, Sequoia Capita...</td>\n",
       "    </tr>\n",
       "    <tr>\n",
       "      <th>4</th>\n",
       "      <td>4</td>\n",
       "      <td>Canva</td>\n",
       "      <td>$40</td>\n",
       "      <td>1/8/2018</td>\n",
       "      <td>Australia</td>\n",
       "      <td>Surry Hills</td>\n",
       "      <td>Internet software &amp; services</td>\n",
       "      <td>Sequoia Capital China, Blackbird Ventures, Mat...</td>\n",
       "    </tr>\n",
       "  </tbody>\n",
       "</table>\n",
       "</div>"
      ],
      "text/plain": [
       "   Unnamed: 0    Company Valuation ($B) Date Joined        Country  \\\n",
       "0           0  Bytedance           $140    4/7/2017          China   \n",
       "1           1     SpaceX         $100.3   12/1/2012  United States   \n",
       "2           2     Stripe            $95   1/23/2014  United States   \n",
       "3           3     Klarna          $45.6  12/12/2011         Sweden   \n",
       "4           4      Canva            $40    1/8/2018      Australia   \n",
       "\n",
       "            City                      Industry  \\\n",
       "0        Beijing       Artificial intelligence   \n",
       "1      Hawthorne                         Other   \n",
       "2  San Francisco                       Fintech   \n",
       "3      Stockholm                       Fintech   \n",
       "4    Surry Hills  Internet software & services   \n",
       "\n",
       "                                    Select Investors  \n",
       "0  Sequoia Capital China, SIG Asia Investments, S...  \n",
       "1  Founders Fund, Draper Fisher Jurvetson, Rothen...  \n",
       "2        Khosla Ventures, LowercaseCapital, capitalG  \n",
       "3  Institutional Venture Partners, Sequoia Capita...  \n",
       "4  Sequoia Capital China, Blackbird Ventures, Mat...  "
      ]
     },
     "execution_count": 4,
     "metadata": {},
     "output_type": "execute_result"
    }
   ],
   "source": [
    "# Primeiros registros\n",
    "base.head()"
   ]
  },
  {
   "cell_type": "code",
   "execution_count": 5,
   "id": "6362df04-dce3-4ce4-8ddc-d386750cc5ff",
   "metadata": {},
   "outputs": [
    {
     "data": {
      "text/plain": [
       "Index(['Unnamed: 0', 'Company', 'Valuation ($B)', 'Date Joined', 'Country',\n",
       "       'City', 'Industry', 'Select Investors'],\n",
       "      dtype='object')"
      ]
     },
     "execution_count": 5,
     "metadata": {},
     "output_type": "execute_result"
    }
   ],
   "source": [
    "# Colunas\n",
    "base.columns"
   ]
  },
  {
   "cell_type": "code",
   "execution_count": 6,
   "id": "447c98ee-fc16-47b3-ba27-bbaa78d3f714",
   "metadata": {},
   "outputs": [
    {
     "data": {
      "text/html": [
       "<div>\n",
       "<style scoped>\n",
       "    .dataframe tbody tr th:only-of-type {\n",
       "        vertical-align: middle;\n",
       "    }\n",
       "\n",
       "    .dataframe tbody tr th {\n",
       "        vertical-align: top;\n",
       "    }\n",
       "\n",
       "    .dataframe thead th {\n",
       "        text-align: right;\n",
       "    }\n",
       "</style>\n",
       "<table border=\"1\" class=\"dataframe\">\n",
       "  <thead>\n",
       "    <tr style=\"text-align: right;\">\n",
       "      <th></th>\n",
       "      <th>id</th>\n",
       "      <th>company_name</th>\n",
       "      <th>value_billion</th>\n",
       "      <th>date_joined</th>\n",
       "      <th>country</th>\n",
       "      <th>city</th>\n",
       "      <th>industry</th>\n",
       "      <th>investors</th>\n",
       "    </tr>\n",
       "  </thead>\n",
       "  <tbody>\n",
       "    <tr>\n",
       "      <th>0</th>\n",
       "      <td>0</td>\n",
       "      <td>Bytedance</td>\n",
       "      <td>$140</td>\n",
       "      <td>4/7/2017</td>\n",
       "      <td>China</td>\n",
       "      <td>Beijing</td>\n",
       "      <td>Artificial intelligence</td>\n",
       "      <td>Sequoia Capital China, SIG Asia Investments, S...</td>\n",
       "    </tr>\n",
       "    <tr>\n",
       "      <th>1</th>\n",
       "      <td>1</td>\n",
       "      <td>SpaceX</td>\n",
       "      <td>$100.3</td>\n",
       "      <td>12/1/2012</td>\n",
       "      <td>United States</td>\n",
       "      <td>Hawthorne</td>\n",
       "      <td>Other</td>\n",
       "      <td>Founders Fund, Draper Fisher Jurvetson, Rothen...</td>\n",
       "    </tr>\n",
       "    <tr>\n",
       "      <th>2</th>\n",
       "      <td>2</td>\n",
       "      <td>Stripe</td>\n",
       "      <td>$95</td>\n",
       "      <td>1/23/2014</td>\n",
       "      <td>United States</td>\n",
       "      <td>San Francisco</td>\n",
       "      <td>Fintech</td>\n",
       "      <td>Khosla Ventures, LowercaseCapital, capitalG</td>\n",
       "    </tr>\n",
       "    <tr>\n",
       "      <th>3</th>\n",
       "      <td>3</td>\n",
       "      <td>Klarna</td>\n",
       "      <td>$45.6</td>\n",
       "      <td>12/12/2011</td>\n",
       "      <td>Sweden</td>\n",
       "      <td>Stockholm</td>\n",
       "      <td>Fintech</td>\n",
       "      <td>Institutional Venture Partners, Sequoia Capita...</td>\n",
       "    </tr>\n",
       "    <tr>\n",
       "      <th>4</th>\n",
       "      <td>4</td>\n",
       "      <td>Canva</td>\n",
       "      <td>$40</td>\n",
       "      <td>1/8/2018</td>\n",
       "      <td>Australia</td>\n",
       "      <td>Surry Hills</td>\n",
       "      <td>Internet software &amp; services</td>\n",
       "      <td>Sequoia Capital China, Blackbird Ventures, Mat...</td>\n",
       "    </tr>\n",
       "  </tbody>\n",
       "</table>\n",
       "</div>"
      ],
      "text/plain": [
       "   id company_name value_billion date_joined        country           city  \\\n",
       "0   0    Bytedance          $140    4/7/2017          China        Beijing   \n",
       "1   1       SpaceX        $100.3   12/1/2012  United States      Hawthorne   \n",
       "2   2       Stripe           $95   1/23/2014  United States  San Francisco   \n",
       "3   3       Klarna         $45.6  12/12/2011         Sweden      Stockholm   \n",
       "4   4        Canva           $40    1/8/2018      Australia    Surry Hills   \n",
       "\n",
       "                       industry  \\\n",
       "0       Artificial intelligence   \n",
       "1                         Other   \n",
       "2                       Fintech   \n",
       "3                       Fintech   \n",
       "4  Internet software & services   \n",
       "\n",
       "                                           investors  \n",
       "0  Sequoia Capital China, SIG Asia Investments, S...  \n",
       "1  Founders Fund, Draper Fisher Jurvetson, Rothen...  \n",
       "2        Khosla Ventures, LowercaseCapital, capitalG  \n",
       "3  Institutional Venture Partners, Sequoia Capita...  \n",
       "4  Sequoia Capital China, Blackbird Ventures, Mat...  "
      ]
     },
     "execution_count": 6,
     "metadata": {},
     "output_type": "execute_result"
    }
   ],
   "source": [
    "# Renomenado e padronizando as colunas\n",
    "columns_name = {'Unnamed: 0' : 'id',\n",
    "           'Company' : 'company_name',\n",
    "           'Valuation ($B)' : 'value_billion',\n",
    "           'Date Joined' : 'date_joined',\n",
    "           'Country' : 'country',\n",
    "           'City' : 'city',\n",
    "           'Industry' : 'industry',\n",
    "           'Select Investors' : 'investors'}\n",
    "\n",
    "base.rename(columns=columns_name, inplace = True)\n",
    "base.head()"
   ]
  },
  {
   "cell_type": "markdown",
   "id": "03c84972-7b10-4a87-855c-38b34c0c415e",
   "metadata": {},
   "source": [
    "# Análise Exploratória dos Dados"
   ]
  },
  {
   "cell_type": "code",
   "execution_count": 7,
   "id": "f7e84a06-10f0-4175-80af-2f442be6c1e8",
   "metadata": {},
   "outputs": [
    {
     "data": {
      "text/plain": [
       "id                int64\n",
       "company_name     object\n",
       "value_billion    object\n",
       "date_joined      object\n",
       "country          object\n",
       "city             object\n",
       "industry         object\n",
       "investors        object\n",
       "dtype: object"
      ]
     },
     "execution_count": 7,
     "metadata": {},
     "output_type": "execute_result"
    }
   ],
   "source": [
    "# Verificando o formato de cada variável\n",
    "base.dtypes"
   ]
  },
  {
   "cell_type": "markdown",
   "id": "f5cee722-7b4d-45a9-8f2a-a4c9e53c8646",
   "metadata": {},
   "source": [
    "---\n",
    "Devemos aplicar algumas conversões de tipos de dados:\n",
    " - ```id```: deve ser do tipo object\n",
    " - ```value_billion``` deve ser do tipo float\n",
    " - ```date_joined``` deve ser do tipo data"
   ]
  },
  {
   "cell_type": "code",
   "execution_count": 8,
   "id": "a169a710-2b23-46c3-960e-bef789f18c76",
   "metadata": {},
   "outputs": [],
   "source": [
    "# Convertendo a coluna id para object (string)\n",
    "base['id'] = base['id'].astype('object')\n",
    "\n",
    "# Convertendo a coluna value_billion para float\n",
    "base['value_billion'] = base['value_billion'].str.replace('$','').astype('float')\n",
    "\n",
    "# Convertendo a coluna value_billion para float\n",
    "base['date_joined'] = pd.to_datetime(base['date_joined'],format='%m/%d/%Y')"
   ]
  },
  {
   "cell_type": "code",
   "execution_count": 9,
   "id": "96c635e6-8b5d-4342-a614-a30298008f85",
   "metadata": {},
   "outputs": [
    {
     "data": {
      "text/plain": [
       "id                       object\n",
       "company_name             object\n",
       "value_billion           float64\n",
       "date_joined      datetime64[ns]\n",
       "country                  object\n",
       "city                     object\n",
       "industry                 object\n",
       "investors                object\n",
       "dtype: object"
      ]
     },
     "execution_count": 9,
     "metadata": {},
     "output_type": "execute_result"
    }
   ],
   "source": [
    "# Checando resultado\n",
    "base.dtypes"
   ]
  },
  {
   "cell_type": "code",
   "execution_count": 10,
   "id": "425033b5-0bca-4508-bab5-22acdec0de02",
   "metadata": {},
   "outputs": [
    {
     "data": {
      "text/html": [
       "<div>\n",
       "<style scoped>\n",
       "    .dataframe tbody tr th:only-of-type {\n",
       "        vertical-align: middle;\n",
       "    }\n",
       "\n",
       "    .dataframe tbody tr th {\n",
       "        vertical-align: top;\n",
       "    }\n",
       "\n",
       "    .dataframe thead th {\n",
       "        text-align: right;\n",
       "    }\n",
       "</style>\n",
       "<table border=\"1\" class=\"dataframe\">\n",
       "  <thead>\n",
       "    <tr style=\"text-align: right;\">\n",
       "      <th></th>\n",
       "      <th>unique_value</th>\n",
       "    </tr>\n",
       "  </thead>\n",
       "  <tbody>\n",
       "    <tr>\n",
       "      <th>company_name</th>\n",
       "      <td>935</td>\n",
       "    </tr>\n",
       "    <tr>\n",
       "      <th>country</th>\n",
       "      <td>47</td>\n",
       "    </tr>\n",
       "    <tr>\n",
       "      <th>city</th>\n",
       "      <td>239</td>\n",
       "    </tr>\n",
       "    <tr>\n",
       "      <th>industry</th>\n",
       "      <td>17</td>\n",
       "    </tr>\n",
       "    <tr>\n",
       "      <th>investors</th>\n",
       "      <td>920</td>\n",
       "    </tr>\n",
       "  </tbody>\n",
       "</table>\n",
       "</div>"
      ],
      "text/plain": [
       "              unique_value\n",
       "company_name           935\n",
       "country                 47\n",
       "city                   239\n",
       "industry                17\n",
       "investors              920"
      ]
     },
     "execution_count": 10,
     "metadata": {},
     "output_type": "execute_result"
    }
   ],
   "source": [
    "# Verificando valores unicos para as variáveis categóricas\n",
    "list_cat = ['company_name', 'country', 'city', 'industry', 'investors' ]\n",
    "\n",
    "pd.DataFrame(base[list_cat].nunique(), columns=['unique_value'])"
   ]
  },
  {
   "cell_type": "code",
   "execution_count": 11,
   "id": "9d89ece5-ad4e-4504-8b62-67656b49c084",
   "metadata": {},
   "outputs": [],
   "source": [
    "# Verificando valores ausentes\n",
    "\n",
    "null_df = base.isna().sum().reset_index()"
   ]
  },
  {
   "cell_type": "code",
   "execution_count": 12,
   "id": "b3d4d0d9-37d6-4794-8d1f-c2ecd195d5dc",
   "metadata": {},
   "outputs": [
    {
     "data": {
      "text/html": [
       "<div>\n",
       "<style scoped>\n",
       "    .dataframe tbody tr th:only-of-type {\n",
       "        vertical-align: middle;\n",
       "    }\n",
       "\n",
       "    .dataframe tbody tr th {\n",
       "        vertical-align: top;\n",
       "    }\n",
       "\n",
       "    .dataframe thead th {\n",
       "        text-align: right;\n",
       "    }\n",
       "</style>\n",
       "<table border=\"1\" class=\"dataframe\">\n",
       "  <thead>\n",
       "    <tr style=\"text-align: right;\">\n",
       "      <th></th>\n",
       "      <th>index</th>\n",
       "      <th>0</th>\n",
       "    </tr>\n",
       "  </thead>\n",
       "  <tbody>\n",
       "    <tr>\n",
       "      <th>0</th>\n",
       "      <td>id</td>\n",
       "      <td>0</td>\n",
       "    </tr>\n",
       "    <tr>\n",
       "      <th>1</th>\n",
       "      <td>company_name</td>\n",
       "      <td>0</td>\n",
       "    </tr>\n",
       "    <tr>\n",
       "      <th>2</th>\n",
       "      <td>value_billion</td>\n",
       "      <td>0</td>\n",
       "    </tr>\n",
       "    <tr>\n",
       "      <th>3</th>\n",
       "      <td>date_joined</td>\n",
       "      <td>0</td>\n",
       "    </tr>\n",
       "    <tr>\n",
       "      <th>4</th>\n",
       "      <td>country</td>\n",
       "      <td>0</td>\n",
       "    </tr>\n",
       "    <tr>\n",
       "      <th>5</th>\n",
       "      <td>city</td>\n",
       "      <td>15</td>\n",
       "    </tr>\n",
       "    <tr>\n",
       "      <th>6</th>\n",
       "      <td>industry</td>\n",
       "      <td>0</td>\n",
       "    </tr>\n",
       "    <tr>\n",
       "      <th>7</th>\n",
       "      <td>investors</td>\n",
       "      <td>1</td>\n",
       "    </tr>\n",
       "  </tbody>\n",
       "</table>\n",
       "</div>"
      ],
      "text/plain": [
       "           index   0\n",
       "0             id   0\n",
       "1   company_name   0\n",
       "2  value_billion   0\n",
       "3    date_joined   0\n",
       "4        country   0\n",
       "5           city  15\n",
       "6       industry   0\n",
       "7      investors   1"
      ]
     },
     "execution_count": 12,
     "metadata": {},
     "output_type": "execute_result"
    }
   ],
   "source": [
    "null_df"
   ]
  },
  {
   "cell_type": "code",
   "execution_count": 13,
   "id": "70c88ff9-5887-4be0-9372-e5216713c353",
   "metadata": {},
   "outputs": [
    {
     "data": {
      "image/png": "[encoded data removed]",
      "text/plain": [
       "<Figure size 1080x360 with 1 Axes>"
      ]
     },
     "metadata": {
      "needs_background": "light"
     },
     "output_type": "display_data"
    }
   ],
   "source": [
    "# figura\n",
    "ax = plt.figure(figsize = (15,5))\n",
    "\n",
    "# Barplot\n",
    "\n",
    "ax = sns.barplot(null_df['index'], null_df[0], palette = 'husl')\n",
    "plt.xlabel('Atributos', fontsize = 12, )\n",
    "plt.xticks(rotation=45)\n",
    "plt.ylabel('Contagem de Valores Ausentes', fontsize = 15)\n",
    "plt.title('Plot de Valores Ausentes', fontsize = 15)\n",
    "\n",
    "for p in ax.patches:\n",
    "    ax.annotate(f'\\n{p.get_height()}', (p.get_x() + .4, (p.get_height())), ha = 'center', color = 'black', size = 11)\n",
    "\n",
    "plt.show()"
   ]
  },
  {
   "cell_type": "markdown",
   "id": "fcecf53b-3bb0-44be-bf02-d923fa7c215e",
   "metadata": {},
   "source": [
    "---\n",
    "Temos 15 valores missing na variável ```city``` e 1 valor na variáve; ```investors```"
   ]
  },
  {
   "cell_type": "code",
   "execution_count": 14,
   "id": "e28570b2-da18-46f8-868a-e06e33d78798",
   "metadata": {},
   "outputs": [],
   "source": [
    "#tratando os valores missing inputando \"not informed\"\n",
    "\n",
    "base['city'] = base['city'].fillna('Not informed')\n",
    "base['investors'] = base['investors'].fillna('Not informed')"
   ]
  },
  {
   "cell_type": "code",
   "execution_count": 15,
   "id": "33055acd-4332-42f6-9bb5-c4f4ea88aa4f",
   "metadata": {},
   "outputs": [
    {
     "name": "stdout",
     "output_type": "stream",
     "text": [
      "<class 'pandas.core.frame.DataFrame'>\n",
      "RangeIndex: 936 entries, 0 to 935\n",
      "Data columns (total 8 columns):\n",
      " #   Column         Non-Null Count  Dtype         \n",
      "---  ------         --------------  -----         \n",
      " 0   id             936 non-null    object        \n",
      " 1   company_name   936 non-null    object        \n",
      " 2   value_billion  936 non-null    float64       \n",
      " 3   date_joined    936 non-null    datetime64[ns]\n",
      " 4   country        936 non-null    object        \n",
      " 5   city           936 non-null    object        \n",
      " 6   industry       936 non-null    object        \n",
      " 7   investors      936 non-null    object        \n",
      "dtypes: datetime64[ns](1), float64(1), object(6)\n",
      "memory usage: 58.6+ KB\n"
     ]
    }
   ],
   "source": [
    "base.info()"
   ]
  },
  {
   "cell_type": "markdown",
   "id": "6a93c189-fa50-4f42-9647-22ad142ecb82",
   "metadata": {},
   "source": [
    "---\n",
    "Agora temos 936 registros para todas as variáveis"
   ]
  },
  {
   "cell_type": "code",
   "execution_count": 16,
   "id": "4f4cff01-bcbe-4c94-bfe6-59f1beee9764",
   "metadata": {},
   "outputs": [
    {
     "data": {
      "text/plain": [
       "0"
      ]
     },
     "execution_count": 16,
     "metadata": {},
     "output_type": "execute_result"
    }
   ],
   "source": [
    "#verificando valores duplicados\n",
    "base['id'].duplicated().sum()"
   ]
  },
  {
   "cell_type": "markdown",
   "id": "3ba70c94-2f06-49c5-9d13-78b0df98d449",
   "metadata": {},
   "source": [
    "## Variável value_billion"
   ]
  },
  {
   "cell_type": "code",
   "execution_count": 17,
   "id": "60193ffd-8384-442b-831e-5443f9f0aa78",
   "metadata": {},
   "outputs": [
    {
     "data": {
      "text/plain": [
       "count    936.000000\n",
       "mean       3.281154\n",
       "std        7.473179\n",
       "min        1.000000\n",
       "25%        1.050000\n",
       "50%        1.600000\n",
       "75%        3.000000\n",
       "max      140.000000\n",
       "Name: value_billion, dtype: float64"
      ]
     },
     "execution_count": 17,
     "metadata": {},
     "output_type": "execute_result"
    }
   ],
   "source": [
    "base['value_billion'].describe()"
   ]
  },
  {
   "cell_type": "code",
   "execution_count": 18,
   "id": "91a0658a-78c2-4f59-b1aa-62e1fa90ac6c",
   "metadata": {},
   "outputs": [
    {
     "data": {
      "image/png": "[encoded data removed]",
      "text/plain": [
       "<Figure size 1224x864 with 2 Axes>"
      ]
     },
     "metadata": {
      "needs_background": "light"
     },
     "output_type": "display_data"
    }
   ],
   "source": [
    "# Figura \n",
    "plt.figure(figsize = (17,12))\n",
    "\n",
    "# Subplots com histogramas\n",
    "plt.subplot(211)\n",
    "sns.color_palette('hls', 8)\n",
    "sns.histplot(base['value_billion'], kde = True, color = 'green')\n",
    "plt.title('Histograma', fontsize = 20)\n",
    "\n",
    "# Subplots com boxplots\n",
    "plt.subplot(212)\n",
    "sns.boxplot(base['value_billion'], color = 'green', showmeans=True, meanprops={'marker':'x', 'markeredgecolor':'black'})\n",
    "plt.title('Boxplot', fontsize = 20)\n",
    "\n",
    "plt.show()"
   ]
  },
  {
   "cell_type": "markdown",
   "id": "cac0987d-c33e-4c9a-be89-0fda6eefd657",
   "metadata": {},
   "source": [
    "## Variável Country"
   ]
  },
  {
   "cell_type": "code",
   "execution_count": 19,
   "id": "2bf5b05c-0164-44bd-b443-f05de8a45319",
   "metadata": {},
   "outputs": [
    {
     "data": {
      "image/png": "[encoded data removed]",
      "text/plain": [
       "<Figure size 1224x864 with 1 Axes>"
      ]
     },
     "metadata": {
      "needs_background": "light"
     },
     "output_type": "display_data"
    }
   ],
   "source": [
    "plt.figure(figsize = (17,12))\n",
    "ax = sns.countplot(data = base, x = 'country', order = base['country'].value_counts().index)\n",
    "\n",
    "for p in ax.patches:\n",
    "    ax.annotate(f'\\n{p.get_height()}', (p.get_x() + .4, (p.get_height())), ha = 'center', color = 'black', size = 11)\n",
    "    \n",
    "plt.xticks(rotation = 90)\n",
    "plt.show()"
   ]
  },
  {
   "cell_type": "markdown",
   "id": "f30f219d-c660-4359-a2ab-cf7d0c3484d7",
   "metadata": {},
   "source": [
    "## Variável industry"
   ]
  },
  {
   "cell_type": "code",
   "execution_count": 20,
   "id": "025ab825-7456-4f1f-b6ea-02bfe28a614e",
   "metadata": {},
   "outputs": [],
   "source": [
    "base['industry'] = base['industry'].str.replace('Finttech','Fintech')"
   ]
  },
  {
   "cell_type": "code",
   "execution_count": 21,
   "id": "e0f2d4c2-9387-45f1-8108-4a665e4f3162",
   "metadata": {},
   "outputs": [
    {
     "data": {
      "image/png": "[encoded data removed]",
      "text/plain": [
       "<Figure size 1224x864 with 1 Axes>"
      ]
     },
     "metadata": {
      "needs_background": "light"
     },
     "output_type": "display_data"
    }
   ],
   "source": [
    "plt.figure(figsize = (17,12))\n",
    "ax = sns.countplot(data = base, x = 'industry', order = base['industry'].value_counts().index)\n",
    "\n",
    "for p in ax.patches:\n",
    "    ax.annotate(f'\\n{p.get_height()}', (p.get_x() + .4, (p.get_height())), ha = 'center', color = 'black', size = 11)\n",
    "    \n",
    "plt.xticks(rotation = 90)\n",
    "plt.show()"
   ]
  },
  {
   "cell_type": "markdown",
   "id": "bb17efe4-57f0-4942-97d3-0deb75bc8e9e",
   "metadata": {},
   "source": [
    "# Questionários"
   ]
  },
  {
   "cell_type": "code",
   "execution_count": 60,
   "id": "03f91560-085a-4f55-af1e-0ff20740843a",
   "metadata": {},
   "outputs": [
    {
     "data": {
      "text/html": [
       "<div>\n",
       "<style scoped>\n",
       "    .dataframe tbody tr th:only-of-type {\n",
       "        vertical-align: middle;\n",
       "    }\n",
       "\n",
       "    .dataframe tbody tr th {\n",
       "        vertical-align: top;\n",
       "    }\n",
       "\n",
       "    .dataframe thead th {\n",
       "        text-align: right;\n",
       "    }\n",
       "</style>\n",
       "<table border=\"1\" class=\"dataframe\">\n",
       "  <thead>\n",
       "    <tr style=\"text-align: right;\">\n",
       "      <th></th>\n",
       "      <th>country</th>\n",
       "      <th>company_name</th>\n",
       "      <th>value_billion</th>\n",
       "      <th>year</th>\n",
       "      <th>month</th>\n",
       "      <th>date_joined</th>\n",
       "      <th>id</th>\n",
       "    </tr>\n",
       "  </thead>\n",
       "  <tbody>\n",
       "    <tr>\n",
       "      <th>0</th>\n",
       "      <td>Argentina</td>\n",
       "      <td>Uala</td>\n",
       "      <td>2.45</td>\n",
       "      <td>2021</td>\n",
       "      <td>Aug</td>\n",
       "      <td>2021-08-13</td>\n",
       "      <td>1</td>\n",
       "    </tr>\n",
       "    <tr>\n",
       "      <th>1</th>\n",
       "      <td>Australia</td>\n",
       "      <td>Airwallex</td>\n",
       "      <td>5.50</td>\n",
       "      <td>2019</td>\n",
       "      <td>Mar</td>\n",
       "      <td>2019-03-25</td>\n",
       "      <td>1</td>\n",
       "    </tr>\n",
       "    <tr>\n",
       "      <th>2</th>\n",
       "      <td>Australia</td>\n",
       "      <td>Canva</td>\n",
       "      <td>40.00</td>\n",
       "      <td>2018</td>\n",
       "      <td>Jan</td>\n",
       "      <td>2018-01-08</td>\n",
       "      <td>1</td>\n",
       "    </tr>\n",
       "    <tr>\n",
       "      <th>3</th>\n",
       "      <td>Australia</td>\n",
       "      <td>Culture Amp</td>\n",
       "      <td>1.50</td>\n",
       "      <td>2021</td>\n",
       "      <td>Jul</td>\n",
       "      <td>2021-07-29</td>\n",
       "      <td>1</td>\n",
       "    </tr>\n",
       "    <tr>\n",
       "      <th>4</th>\n",
       "      <td>Australia</td>\n",
       "      <td>GO1</td>\n",
       "      <td>1.00</td>\n",
       "      <td>2021</td>\n",
       "      <td>Jul</td>\n",
       "      <td>2021-07-19</td>\n",
       "      <td>1</td>\n",
       "    </tr>\n",
       "  </tbody>\n",
       "</table>\n",
       "</div>"
      ],
      "text/plain": [
       "     country company_name  value_billion  year month date_joined  id\n",
       "0  Argentina         Uala           2.45  2021   Aug  2021-08-13   1\n",
       "1  Australia    Airwallex           5.50  2019   Mar  2019-03-25   1\n",
       "2  Australia        Canva          40.00  2018   Jan  2018-01-08   1\n",
       "3  Australia  Culture Amp           1.50  2021   Jul  2021-07-29   1\n",
       "4  Australia          GO1           1.00  2021   Jul  2021-07-19   1"
      ]
     },
     "execution_count": 60,
     "metadata": {},
     "output_type": "execute_result"
    }
   ],
   "source": [
    "base['year'] = pd.DatetimeIndex(base['date_joined']).year\n",
    "base['month'] = base['date_joined'].dt.strftime('%b')\n",
    "selection = base.groupby(['country', 'company_name', 'value_billion','year', 'month', 'date_joined']).count()['id'].reset_index()\n",
    "selection.head()"
   ]
  },
  {
   "cell_type": "code",
   "execution_count": 61,
   "id": "f97ee16e-7e1c-4c4d-9da4-827cf9af8599",
   "metadata": {},
   "outputs": [
    {
     "data": {
      "text/html": [
       "<div>\n",
       "<style scoped>\n",
       "    .dataframe tbody tr th:only-of-type {\n",
       "        vertical-align: middle;\n",
       "    }\n",
       "\n",
       "    .dataframe tbody tr th {\n",
       "        vertical-align: top;\n",
       "    }\n",
       "\n",
       "    .dataframe thead th {\n",
       "        text-align: right;\n",
       "    }\n",
       "</style>\n",
       "<table border=\"1\" class=\"dataframe\">\n",
       "  <thead>\n",
       "    <tr style=\"text-align: right;\">\n",
       "      <th></th>\n",
       "      <th>country</th>\n",
       "      <th>company_name</th>\n",
       "      <th>value_billion</th>\n",
       "      <th>year</th>\n",
       "      <th>month</th>\n",
       "      <th>date_joined</th>\n",
       "      <th>id</th>\n",
       "    </tr>\n",
       "  </thead>\n",
       "  <tbody>\n",
       "    <tr>\n",
       "      <th>0</th>\n",
       "      <td>Brazil</td>\n",
       "      <td>Nubank</td>\n",
       "      <td>30.00</td>\n",
       "      <td>2018</td>\n",
       "      <td>Mar</td>\n",
       "      <td>2018-03-01</td>\n",
       "      <td>1</td>\n",
       "    </tr>\n",
       "    <tr>\n",
       "      <th>1</th>\n",
       "      <td>Brazil</td>\n",
       "      <td>Movile</td>\n",
       "      <td>1.00</td>\n",
       "      <td>2018</td>\n",
       "      <td>Jul</td>\n",
       "      <td>2018-07-12</td>\n",
       "      <td>1</td>\n",
       "    </tr>\n",
       "    <tr>\n",
       "      <th>2</th>\n",
       "      <td>Brazil</td>\n",
       "      <td>iFood</td>\n",
       "      <td>1.00</td>\n",
       "      <td>2018</td>\n",
       "      <td>Nov</td>\n",
       "      <td>2018-11-13</td>\n",
       "      <td>1</td>\n",
       "    </tr>\n",
       "    <tr>\n",
       "      <th>3</th>\n",
       "      <td>Brazil</td>\n",
       "      <td>Loggi</td>\n",
       "      <td>2.00</td>\n",
       "      <td>2019</td>\n",
       "      <td>Jun</td>\n",
       "      <td>2019-06-05</td>\n",
       "      <td>1</td>\n",
       "    </tr>\n",
       "    <tr>\n",
       "      <th>4</th>\n",
       "      <td>Brazil</td>\n",
       "      <td>QuintoAndar</td>\n",
       "      <td>5.10</td>\n",
       "      <td>2019</td>\n",
       "      <td>Sep</td>\n",
       "      <td>2019-09-09</td>\n",
       "      <td>1</td>\n",
       "    </tr>\n",
       "    <tr>\n",
       "      <th>5</th>\n",
       "      <td>Brazil</td>\n",
       "      <td>EBANX</td>\n",
       "      <td>1.00</td>\n",
       "      <td>2019</td>\n",
       "      <td>Oct</td>\n",
       "      <td>2019-10-16</td>\n",
       "      <td>1</td>\n",
       "    </tr>\n",
       "    <tr>\n",
       "      <th>6</th>\n",
       "      <td>Brazil</td>\n",
       "      <td>Wildlife Studios</td>\n",
       "      <td>3.00</td>\n",
       "      <td>2019</td>\n",
       "      <td>Dec</td>\n",
       "      <td>2019-12-05</td>\n",
       "      <td>1</td>\n",
       "    </tr>\n",
       "    <tr>\n",
       "      <th>7</th>\n",
       "      <td>Brazil</td>\n",
       "      <td>Loft</td>\n",
       "      <td>2.90</td>\n",
       "      <td>2020</td>\n",
       "      <td>Jan</td>\n",
       "      <td>2020-01-03</td>\n",
       "      <td>1</td>\n",
       "    </tr>\n",
       "    <tr>\n",
       "      <th>8</th>\n",
       "      <td>Brazil</td>\n",
       "      <td>C6 Bank</td>\n",
       "      <td>5.05</td>\n",
       "      <td>2020</td>\n",
       "      <td>Dec</td>\n",
       "      <td>2020-12-02</td>\n",
       "      <td>1</td>\n",
       "    </tr>\n",
       "    <tr>\n",
       "      <th>9</th>\n",
       "      <td>Brazil</td>\n",
       "      <td>Creditas</td>\n",
       "      <td>1.75</td>\n",
       "      <td>2020</td>\n",
       "      <td>Dec</td>\n",
       "      <td>2020-12-18</td>\n",
       "      <td>1</td>\n",
       "    </tr>\n",
       "    <tr>\n",
       "      <th>10</th>\n",
       "      <td>Brazil</td>\n",
       "      <td>MadeiraMadeira</td>\n",
       "      <td>1.00</td>\n",
       "      <td>2021</td>\n",
       "      <td>Jan</td>\n",
       "      <td>2021-01-07</td>\n",
       "      <td>1</td>\n",
       "    </tr>\n",
       "    <tr>\n",
       "      <th>11</th>\n",
       "      <td>Brazil</td>\n",
       "      <td>Unico</td>\n",
       "      <td>1.00</td>\n",
       "      <td>2021</td>\n",
       "      <td>Aug</td>\n",
       "      <td>2021-08-03</td>\n",
       "      <td>1</td>\n",
       "    </tr>\n",
       "    <tr>\n",
       "      <th>12</th>\n",
       "      <td>Brazil</td>\n",
       "      <td>Nuvemshop</td>\n",
       "      <td>3.10</td>\n",
       "      <td>2021</td>\n",
       "      <td>Aug</td>\n",
       "      <td>2021-08-17</td>\n",
       "      <td>1</td>\n",
       "    </tr>\n",
       "    <tr>\n",
       "      <th>13</th>\n",
       "      <td>Brazil</td>\n",
       "      <td>1</td>\n",
       "      <td>2.15</td>\n",
       "      <td>2021</td>\n",
       "      <td>Sep</td>\n",
       "      <td>2021-09-08</td>\n",
       "      <td>1</td>\n",
       "    </tr>\n",
       "    <tr>\n",
       "      <th>14</th>\n",
       "      <td>Brazil</td>\n",
       "      <td>CargoX</td>\n",
       "      <td>1.00</td>\n",
       "      <td>2021</td>\n",
       "      <td>Oct</td>\n",
       "      <td>2021-10-21</td>\n",
       "      <td>1</td>\n",
       "    </tr>\n",
       "  </tbody>\n",
       "</table>\n",
       "</div>"
      ],
      "text/plain": [
       "   country      company_name  value_billion  year month date_joined  id\n",
       "0   Brazil            Nubank          30.00  2018   Mar  2018-03-01   1\n",
       "1   Brazil            Movile           1.00  2018   Jul  2018-07-12   1\n",
       "2   Brazil             iFood           1.00  2018   Nov  2018-11-13   1\n",
       "3   Brazil             Loggi           2.00  2019   Jun  2019-06-05   1\n",
       "4   Brazil       QuintoAndar           5.10  2019   Sep  2019-09-09   1\n",
       "5   Brazil             EBANX           1.00  2019   Oct  2019-10-16   1\n",
       "6   Brazil  Wildlife Studios           3.00  2019   Dec  2019-12-05   1\n",
       "7   Brazil              Loft           2.90  2020   Jan  2020-01-03   1\n",
       "8   Brazil           C6 Bank           5.05  2020   Dec  2020-12-02   1\n",
       "9   Brazil          Creditas           1.75  2020   Dec  2020-12-18   1\n",
       "10  Brazil    MadeiraMadeira           1.00  2021   Jan  2021-01-07   1\n",
       "11  Brazil             Unico           1.00  2021   Aug  2021-08-03   1\n",
       "12  Brazil         Nuvemshop           3.10  2021   Aug  2021-08-17   1\n",
       "13  Brazil                 1           2.15  2021   Sep  2021-09-08   1\n",
       "14  Brazil            CargoX           1.00  2021   Oct  2021-10-21   1"
      ]
     },
     "execution_count": 61,
     "metadata": {},
     "output_type": "execute_result"
    }
   ],
   "source": [
    "Brazil = selection[selection['country'] == 'Brazil'].sort_values(by = 'date_joined').reset_index(drop = True)\n",
    "Brazil"
   ]
  },
  {
   "cell_type": "code",
   "execution_count": 86,
   "id": "db2bc8a6-3679-4fd5-8d35-ac1d1036ef62",
   "metadata": {},
   "outputs": [
    {
     "data": {
      "image/png": "[encoded data removed]",
      "text/plain": [
       "<Figure size 1224x864 with 1 Axes>"
      ]
     },
     "metadata": {
      "needs_background": "light"
     },
     "output_type": "display_data"
    }
   ],
   "source": [
    "plt.figure(figsize = (17,12))\n",
    "sns.countplot(data = Brazil, x = 'year')\n",
    "plt.show()"
   ]
  },
  {
   "cell_type": "code",
   "execution_count": 73,
   "id": "2d5ebe9c-3108-4e8b-ace5-9088bb51a0a1",
   "metadata": {},
   "outputs": [
    {
     "data": {
      "image/png": "[encoded data removed]",
      "text/plain": [
       "<Figure size 1224x864 with 1 Axes>"
      ]
     },
     "metadata": {
      "needs_background": "light"
     },
     "output_type": "display_data"
    }
   ],
   "source": [
    "plt.figure(figsize = (17,12))\n",
    "sns.lineplot(data = Brazil, x = 'date_joined', y = 'value_billion', marker= 'o')\n",
    "\n",
    "for p in ax.patches:\n",
    "    ax.annotate(f'\\n{p.get_height()}', (p.get_x() + .4, (p.get_height())), ha = 'center', color = 'black', size = 11)\n",
    "    \n",
    "plt.xticks(rotation = 45)\n",
    "plt.show()"
   ]
  },
  {
   "cell_type": "code",
   "execution_count": 74,
   "id": "c30b452b-55ac-4756-934a-86dc23b325a8",
   "metadata": {},
   "outputs": [
    {
     "data": {
      "text/html": [
       "<div>\n",
       "<style scoped>\n",
       "    .dataframe tbody tr th:only-of-type {\n",
       "        vertical-align: middle;\n",
       "    }\n",
       "\n",
       "    .dataframe tbody tr th {\n",
       "        vertical-align: top;\n",
       "    }\n",
       "\n",
       "    .dataframe thead th {\n",
       "        text-align: right;\n",
       "    }\n",
       "</style>\n",
       "<table border=\"1\" class=\"dataframe\">\n",
       "  <thead>\n",
       "    <tr style=\"text-align: right;\">\n",
       "      <th></th>\n",
       "      <th>id</th>\n",
       "      <th>company_name</th>\n",
       "      <th>value_billion</th>\n",
       "      <th>date_joined</th>\n",
       "      <th>country</th>\n",
       "      <th>city</th>\n",
       "      <th>industry</th>\n",
       "      <th>investors</th>\n",
       "      <th>year</th>\n",
       "      <th>month</th>\n",
       "    </tr>\n",
       "  </thead>\n",
       "  <tbody>\n",
       "    <tr>\n",
       "      <th>0</th>\n",
       "      <td>0</td>\n",
       "      <td>Bytedance</td>\n",
       "      <td>140.0</td>\n",
       "      <td>2017-04-07</td>\n",
       "      <td>China</td>\n",
       "      <td>Beijing</td>\n",
       "      <td>Artificial intelligence</td>\n",
       "      <td>Sequoia Capital China, SIG Asia Investments, S...</td>\n",
       "      <td>2017</td>\n",
       "      <td>Apr</td>\n",
       "    </tr>\n",
       "    <tr>\n",
       "      <th>1</th>\n",
       "      <td>1</td>\n",
       "      <td>SpaceX</td>\n",
       "      <td>100.3</td>\n",
       "      <td>2012-12-01</td>\n",
       "      <td>United States</td>\n",
       "      <td>Hawthorne</td>\n",
       "      <td>Other</td>\n",
       "      <td>Founders Fund, Draper Fisher Jurvetson, Rothen...</td>\n",
       "      <td>2012</td>\n",
       "      <td>Dec</td>\n",
       "    </tr>\n",
       "    <tr>\n",
       "      <th>2</th>\n",
       "      <td>2</td>\n",
       "      <td>Stripe</td>\n",
       "      <td>95.0</td>\n",
       "      <td>2014-01-23</td>\n",
       "      <td>United States</td>\n",
       "      <td>San Francisco</td>\n",
       "      <td>Fintech</td>\n",
       "      <td>Khosla Ventures, LowercaseCapital, capitalG</td>\n",
       "      <td>2014</td>\n",
       "      <td>Jan</td>\n",
       "    </tr>\n",
       "    <tr>\n",
       "      <th>3</th>\n",
       "      <td>3</td>\n",
       "      <td>Klarna</td>\n",
       "      <td>45.6</td>\n",
       "      <td>2011-12-12</td>\n",
       "      <td>Sweden</td>\n",
       "      <td>Stockholm</td>\n",
       "      <td>Fintech</td>\n",
       "      <td>Institutional Venture Partners, Sequoia Capita...</td>\n",
       "      <td>2011</td>\n",
       "      <td>Dec</td>\n",
       "    </tr>\n",
       "    <tr>\n",
       "      <th>4</th>\n",
       "      <td>4</td>\n",
       "      <td>Canva</td>\n",
       "      <td>40.0</td>\n",
       "      <td>2018-01-08</td>\n",
       "      <td>Australia</td>\n",
       "      <td>Surry Hills</td>\n",
       "      <td>Internet software &amp; services</td>\n",
       "      <td>Sequoia Capital China, Blackbird Ventures, Mat...</td>\n",
       "      <td>2018</td>\n",
       "      <td>Jan</td>\n",
       "    </tr>\n",
       "  </tbody>\n",
       "</table>\n",
       "</div>"
      ],
      "text/plain": [
       "  id company_name  value_billion date_joined        country           city  \\\n",
       "0  0    Bytedance          140.0  2017-04-07          China        Beijing   \n",
       "1  1       SpaceX          100.3  2012-12-01  United States      Hawthorne   \n",
       "2  2       Stripe           95.0  2014-01-23  United States  San Francisco   \n",
       "3  3       Klarna           45.6  2011-12-12         Sweden      Stockholm   \n",
       "4  4        Canva           40.0  2018-01-08      Australia    Surry Hills   \n",
       "\n",
       "                       industry  \\\n",
       "0       Artificial intelligence   \n",
       "1                         Other   \n",
       "2                       Fintech   \n",
       "3                       Fintech   \n",
       "4  Internet software & services   \n",
       "\n",
       "                                           investors  year month  \n",
       "0  Sequoia Capital China, SIG Asia Investments, S...  2017   Apr  \n",
       "1  Founders Fund, Draper Fisher Jurvetson, Rothen...  2012   Dec  \n",
       "2        Khosla Ventures, LowercaseCapital, capitalG  2014   Jan  \n",
       "3  Institutional Venture Partners, Sequoia Capita...  2011   Dec  \n",
       "4  Sequoia Capital China, Blackbird Ventures, Mat...  2018   Jan  "
      ]
     },
     "execution_count": 74,
     "metadata": {},
     "output_type": "execute_result"
    }
   ],
   "source": [
    "base.head()"
   ]
  },
  {
   "cell_type": "code",
   "execution_count": 100,
   "id": "32eab436-8a8a-46f8-8784-8c6b2829f8e5",
   "metadata": {},
   "outputs": [
    {
     "data": {
      "text/html": [
       "<div>\n",
       "<style scoped>\n",
       "    .dataframe tbody tr th:only-of-type {\n",
       "        vertical-align: middle;\n",
       "    }\n",
       "\n",
       "    .dataframe tbody tr th {\n",
       "        vertical-align: top;\n",
       "    }\n",
       "\n",
       "    .dataframe thead th {\n",
       "        text-align: right;\n",
       "    }\n",
       "</style>\n",
       "<table border=\"1\" class=\"dataframe\">\n",
       "  <thead>\n",
       "    <tr style=\"text-align: right;\">\n",
       "      <th></th>\n",
       "      <th>country</th>\n",
       "      <th>value_billion</th>\n",
       "    </tr>\n",
       "  </thead>\n",
       "  <tbody>\n",
       "    <tr>\n",
       "      <th>0</th>\n",
       "      <td>United States</td>\n",
       "      <td>1605.03</td>\n",
       "    </tr>\n",
       "    <tr>\n",
       "      <th>1</th>\n",
       "      <td>China</td>\n",
       "      <td>569.48</td>\n",
       "    </tr>\n",
       "    <tr>\n",
       "      <th>2</th>\n",
       "      <td>United Kingdom</td>\n",
       "      <td>150.29</td>\n",
       "    </tr>\n",
       "    <tr>\n",
       "      <th>3</th>\n",
       "      <td>India</td>\n",
       "      <td>148.45</td>\n",
       "    </tr>\n",
       "    <tr>\n",
       "      <th>4</th>\n",
       "      <td>Germany</td>\n",
       "      <td>66.63</td>\n",
       "    </tr>\n",
       "    <tr>\n",
       "      <th>5</th>\n",
       "      <td>Brazil</td>\n",
       "      <td>61.05</td>\n",
       "    </tr>\n",
       "    <tr>\n",
       "      <th>6</th>\n",
       "      <td>Sweden</td>\n",
       "      <td>58.08</td>\n",
       "    </tr>\n",
       "    <tr>\n",
       "      <th>7</th>\n",
       "      <td>Australia</td>\n",
       "      <td>50.60</td>\n",
       "    </tr>\n",
       "    <tr>\n",
       "      <th>8</th>\n",
       "      <td>Israel</td>\n",
       "      <td>43.82</td>\n",
       "    </tr>\n",
       "    <tr>\n",
       "      <th>9</th>\n",
       "      <td>Hong Kong</td>\n",
       "      <td>41.45</td>\n",
       "    </tr>\n",
       "  </tbody>\n",
       "</table>\n",
       "</div>"
      ],
      "text/plain": [
       "          country  value_billion\n",
       "0   United States        1605.03\n",
       "1           China         569.48\n",
       "2  United Kingdom         150.29\n",
       "3           India         148.45\n",
       "4         Germany          66.63\n",
       "5          Brazil          61.05\n",
       "6          Sweden          58.08\n",
       "7       Australia          50.60\n",
       "8          Israel          43.82\n",
       "9       Hong Kong          41.45"
      ]
     },
     "execution_count": 100,
     "metadata": {},
     "output_type": "execute_result"
    }
   ],
   "source": [
    "base['country'] = base['country'].apply(lambda country: country.replace('United States,', 'United States'))\n",
    "sum_values = base.groupby('country').sum()['value_billion'].reset_index().sort_values(by = 'value_billion', ascending = False)\n",
    "sum_values.head(10).reset_index(drop=True)"
   ]
  },
  {
   "cell_type": "code",
   "execution_count": 122,
   "id": "aaf7a96e-30bc-4043-983f-5016fd65a791",
   "metadata": {},
   "outputs": [
    {
     "data": {
      "image/png": "[encoded data removed]",
      "text/plain": [
       "<Figure size 1224x864 with 1 Axes>"
      ]
     },
     "metadata": {
      "needs_background": "light"
     },
     "output_type": "display_data"
    }
   ],
   "source": [
    "plt.figure(figsize = (17,12))\n",
    "sns.lineplot(data = sum_values, x = 'country', y = 'value_billion', marker= 'o')\n",
    "\n",
    "for p in ax.patches:\n",
    "    ax.annotate(f'\\n{p.get_height()}', (p.get_x() + .4, (p.get_height())), ha = 'center', color = 'black', size = 11)\n",
    "    \n",
    "plt.xticks(rotation = 90)\n",
    "plt.show()"
   ]
  },
  {
   "cell_type": "code",
   "execution_count": 120,
   "id": "2beaba6d-8a11-48d1-bc47-802fba6c9428",
   "metadata": {},
   "outputs": [
    {
     "data": {
      "image/png": "[encoded data removed]",
      "text/plain": [
       "<Figure size 1224x864 with 1 Axes>"
      ]
     },
     "metadata": {
      "needs_background": "light"
     },
     "output_type": "display_data"
    }
   ],
   "source": [
    "\n",
    "new_sum = sum_values.iloc[:10].reset_index(drop=True)\n",
    "plt.figure(figsize = (17,12))\n",
    "\n",
    "ax = sns.barplot(data = new_sum, x = 'country', y = 'value_billion', order = new_sum['country'].value_counts().index )\n",
    "\n",
    "for p in ax.patches:\n",
    "    ax.annotate(f'\\n{p.get_height()}', (p.get_x() + .4, (p.get_height())), ha = 'center', color = 'black', size = 11)\n",
    "    \n",
    "plt.xticks(rotation = 45)\n",
    "plt.show()"
   ]
  },
  {
   "cell_type": "code",
   "execution_count": null,
   "id": "ba99cb51-72a2-4509-bf80-e3f9c824664a",
   "metadata": {},
   "outputs": [],
   "source": []
  }
 ],
 "metadata": {
  "kernelspec": {
   "display_name": "Python 3 (ipykernel)",
   "language": "python",
   "name": "python3"
  },
  "language_info": {
   "codemirror_mode": {
    "name": "ipython",
    "version": 3
   },
   "file_extension": ".py",
   "mimetype": "text/x-python",
   "name": "python",
   "nbconvert_exporter": "python",
   "pygments_lexer": "ipython3",
   "version": "3.9.7"
  }
 },
 "nbformat": 4,
 "nbformat_minor": 5
}
